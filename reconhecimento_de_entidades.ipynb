{
 "cells": [
  {
   "attachments": {},
   "cell_type": "markdown",
   "metadata": {},
   "source": [
    "Vamos a usar essa biblioteca spaCy: https://spacy.io/models/pt\n",
    "\n",
    "Repara que você vai ter que instalaro seguinte:\n",
    "\n",
    "* pip install spacy\n",
    "\n",
    "* python -m spacy download pt_core_news_sm\n"
   ]
  },
  {
   "cell_type": "code",
   "execution_count": 7,
   "metadata": {},
   "outputs": [
    {
     "name": "stdout",
     "output_type": "stream",
     "text": [
      "('Maria', 'PER')\n",
      "('Karsten', 'ORG')\n",
      "('Shopping Vitória', 'LOC')\n"
     ]
    }
   ],
   "source": [
    "import spacy\n",
    "\n",
    "# Carregando o modelo em português\n",
    "nlp = spacy.load('pt_core_news_sm')\n",
    "\n",
    "# Texto de exemplo\n",
    "texto = \"Maria proucurava comprar toalhas da marca Karsten no Shopping Vitória.\"\n",
    "\n",
    "# Processamento do texto\n",
    "doc = nlp(texto)\n",
    "\n",
    "# Extraindo entidades nomeadas\n",
    "entidades = [(ent.text, ent.label_)for ent in doc.ents]\n",
    "\n",
    "# Imprimindo as entidades encontradas\n",
    "for entidade in entidades:\n",
    "    print(entidade)\n"
   ]
  },
  {
   "cell_type": "code",
   "execution_count": 6,
   "metadata": {},
   "outputs": [
    {
     "data": {
      "text/html": [
       "<span class=\"tex2jax_ignore\"><div class=\"entities\" style=\"line-height: 2.5; direction: ltr\">\n",
       "<mark class=\"entity\" style=\"background: #ddd; padding: 0.45em 0.6em; margin: 0 0.25em; line-height: 1; border-radius: 0.35em;\">\n",
       "    Maria\n",
       "    <span style=\"font-size: 0.8em; font-weight: bold; line-height: 1; border-radius: 0.35em; vertical-align: middle; margin-left: 0.5rem\">PER</span>\n",
       "</mark>\n",
       " proucurava comprar toalhas da marca \n",
       "<mark class=\"entity\" style=\"background: #7aecec; padding: 0.45em 0.6em; margin: 0 0.25em; line-height: 1; border-radius: 0.35em;\">\n",
       "    Karsten\n",
       "    <span style=\"font-size: 0.8em; font-weight: bold; line-height: 1; border-radius: 0.35em; vertical-align: middle; margin-left: 0.5rem\">ORG</span>\n",
       "</mark>\n",
       " no \n",
       "<mark class=\"entity\" style=\"background: #ff9561; padding: 0.45em 0.6em; margin: 0 0.25em; line-height: 1; border-radius: 0.35em;\">\n",
       "    Shopping Vitória\n",
       "    <span style=\"font-size: 0.8em; font-weight: bold; line-height: 1; border-radius: 0.35em; vertical-align: middle; margin-left: 0.5rem\">LOC</span>\n",
       "</mark>\n",
       ".</div></span>"
      ],
      "text/plain": [
       "<IPython.core.display.HTML object>"
      ]
     },
     "metadata": {},
     "output_type": "display_data"
    }
   ],
   "source": [
    "import spacy\n",
    "from spacy import displacy\n",
    "\n",
    "# Carregando o modelo em português\n",
    "nlp = spacy.load('pt_core_news_sm')\n",
    "\n",
    "# Texto exemplo\n",
    "texto = \"Maria proucurava comprar toalhas da marca Karsten no Shopping Vitória.\"\n",
    "\n",
    "# Processamento do texto\n",
    "doc = nlp(texto)\n",
    "\n",
    "# Visualização das entidades\n",
    "\n",
    "displacy.render(doc, style='ent', jupyter=True)"
   ]
  },
  {
   "cell_type": "code",
   "execution_count": null,
   "metadata": {},
   "outputs": [],
   "source": []
  }
 ],
 "metadata": {
  "kernelspec": {
   "display_name": "venv_reconhecimento_de_entidades",
   "language": "python",
   "name": "python3"
  },
  "language_info": {
   "codemirror_mode": {
    "name": "ipython",
    "version": 3
   },
   "file_extension": ".py",
   "mimetype": "text/x-python",
   "name": "python",
   "nbconvert_exporter": "python",
   "pygments_lexer": "ipython3",
   "version": "3.8.10"
  },
  "orig_nbformat": 4
 },
 "nbformat": 4,
 "nbformat_minor": 2
}
