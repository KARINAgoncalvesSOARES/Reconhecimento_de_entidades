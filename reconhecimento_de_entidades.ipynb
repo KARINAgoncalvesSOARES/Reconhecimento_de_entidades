{
 "cells": [
  {
   "attachments": {},
   "cell_type": "markdown",
   "metadata": {},
   "source": [
    "<h1 align='center'>Reconhecimento de Entidades com SpaCy </h1>"
   ]
  },
  {
   "attachments": {},
   "cell_type": "markdown",
   "metadata": {},
   "source": [
    "Data Scientist jr.: Karina Gonçalves Soares"
   ]
  },
  {
   "attachments": {},
   "cell_type": "markdown",
   "metadata": {},
   "source": [
    "Vamos usar a biblioteca spaCy: [spaCy](https://spacy.io/models/pt)\n",
    "\n",
    "Repara que você vai ter que instalaro seguinte:\n",
    "\n",
    "* pip install spacy\n",
    "\n",
    "* python -m spacy download pt_core_news_sm\n",
    "\n",
    "* python -m spacy download pt_core_news_lg\n"
   ]
  },
  {
   "attachments": {},
   "cell_type": "markdown",
   "metadata": {},
   "source": [
    "Vamos iniciar nossso estudo utilizando o `\"pt_core_news_sm\" (de menor capacidade)` um modelo de NLP para o idioma português fornecido pelo `spaCy`. O spaCy é uma ferramenta popular usada para tarefas de processamento de texto, como análise de sentimentos, identificação de entidades, análise gramatical e muito mais."
   ]
  },
  {
   "cell_type": "code",
   "execution_count": 7,
   "metadata": {},
   "outputs": [
    {
     "name": "stdout",
     "output_type": "stream",
     "text": [
      "('Maria', 'PER')\n",
      "('Karsten', 'ORG')\n",
      "('Shopping Vitória', 'LOC')\n"
     ]
    }
   ],
   "source": [
    "import spacy\n",
    "\n",
    "# Carregando o modelo em português\n",
    "nlp = spacy.load('pt_core_news_sm') \n",
    "\n",
    "# Texto de exemplo\n",
    "texto = \"Maria proucurava comprar toalhas da marca Karsten no Shopping Vitória.\"\n",
    "\n",
    "# Processamento do texto\n",
    "doc = nlp(texto)\n",
    "\n",
    "# Extraindo entidades nomeadas\n",
    "entidades = [(ent.text, ent.label_) for ent in doc.ents]\n",
    "\n",
    "# Imprimindo as entidades encontradas\n",
    "for entidade in entidades:\n",
    "    print(entidade)\n"
   ]
  },
  {
   "cell_type": "code",
   "execution_count": 6,
   "metadata": {},
   "outputs": [
    {
     "data": {
      "text/html": [
       "<span class=\"tex2jax_ignore\"><div class=\"entities\" style=\"line-height: 2.5; direction: ltr\">\n",
       "<mark class=\"entity\" style=\"background: #ddd; padding: 0.45em 0.6em; margin: 0 0.25em; line-height: 1; border-radius: 0.35em;\">\n",
       "    Maria\n",
       "    <span style=\"font-size: 0.8em; font-weight: bold; line-height: 1; border-radius: 0.35em; vertical-align: middle; margin-left: 0.5rem\">PER</span>\n",
       "</mark>\n",
       " proucurava comprar toalhas da marca \n",
       "<mark class=\"entity\" style=\"background: #7aecec; padding: 0.45em 0.6em; margin: 0 0.25em; line-height: 1; border-radius: 0.35em;\">\n",
       "    Karsten\n",
       "    <span style=\"font-size: 0.8em; font-weight: bold; line-height: 1; border-radius: 0.35em; vertical-align: middle; margin-left: 0.5rem\">ORG</span>\n",
       "</mark>\n",
       " no \n",
       "<mark class=\"entity\" style=\"background: #ff9561; padding: 0.45em 0.6em; margin: 0 0.25em; line-height: 1; border-radius: 0.35em;\">\n",
       "    Shopping Vitória\n",
       "    <span style=\"font-size: 0.8em; font-weight: bold; line-height: 1; border-radius: 0.35em; vertical-align: middle; margin-left: 0.5rem\">LOC</span>\n",
       "</mark>\n",
       ".</div></span>"
      ],
      "text/plain": [
       "<IPython.core.display.HTML object>"
      ]
     },
     "metadata": {},
     "output_type": "display_data"
    }
   ],
   "source": [
    "import spacy\n",
    "from spacy import displacy\n",
    "\n",
    "# Carregando o modelo em português\n",
    "nlp = spacy.load('pt_core_news_sm')\n",
    "\n",
    "# Texto exemplo\n",
    "texto = \"Maria proucurava comprar toalhas da marca Karsten no Shopping Vitória.\"\n",
    "\n",
    "# Processamento do texto\n",
    "doc = nlp(texto)\n",
    "\n",
    "# Visualização das entidades\n",
    "\n",
    "displacy.render(doc, style='ent', jupyter=True)"
   ]
  },
  {
   "attachments": {},
   "cell_type": "markdown",
   "metadata": {},
   "source": [
    "O modelo `\"#pt_core_news_lg\"` é um modelo treinado pelo spaCy usando uma grande quantidade de dados em português. O sufixo \"_lg\" indica que este modelo é a versão grande (large) do modelo, o que significa que ele foi treinado em um conjunto de dados maior e, portanto, pode ter melhor desempenho em algumas tarefas.\n",
    "\n"
   ]
  },
  {
   "cell_type": "code",
   "execution_count": 17,
   "metadata": {},
   "outputs": [
    {
     "name": "stdout",
     "output_type": "stream",
     "text": [
      "('Maria', 'PER')\n",
      "('Karsten', 'ORG')\n",
      "('Centro da Cidade', 'LOC')\n"
     ]
    }
   ],
   "source": [
    "import spacy\n",
    "\n",
    "# Carregando o modelo em português\n",
    "nlp = spacy.load('pt_core_news_lg') \n",
    "\n",
    "# Texto de exemplo\n",
    "texto = \"Maria proucurava comprar toalhas da marca Karsten no Centro da Cidade. Ela saiu de casa em uma terça-feira no mês 09/2022.\"\n",
    "\n",
    "# Processamento do texto\n",
    "doc = nlp(texto)\n",
    "\n",
    "# Extraindo entidades nomeadas\n",
    "entidades = [(ent.text, ent.label_) for ent in doc.ents]\n",
    "\n",
    "# Imprimindo as entidades encontradas\n",
    "for entidade in entidades:\n",
    "    print(entidade)\n"
   ]
  },
  {
   "cell_type": "code",
   "execution_count": 16,
   "metadata": {},
   "outputs": [
    {
     "data": {
      "text/html": [
       "<span class=\"tex2jax_ignore\"><div class=\"entities\" style=\"line-height: 2.5; direction: ltr\">\n",
       "<mark class=\"entity\" style=\"background: #ddd; padding: 0.45em 0.6em; margin: 0 0.25em; line-height: 1; border-radius: 0.35em;\">\n",
       "    karina\n",
       "    <span style=\"font-size: 0.8em; font-weight: bold; line-height: 1; border-radius: 0.35em; vertical-align: middle; margin-left: 0.5rem\">PER</span>\n",
       "</mark>\n",
       " nasceu no dia 13-11-1997.</div></span>"
      ],
      "text/plain": [
       "<IPython.core.display.HTML object>"
      ]
     },
     "metadata": {},
     "output_type": "display_data"
    }
   ],
   "source": [
    "import spacy\n",
    "from spacy import displacy\n",
    "\n",
    "# Carregando o modelo em português\n",
    "nlp = spacy.load('pt_core_news_lg')\n",
    "\n",
    "# Texto exemplo\n",
    "texto = \"karina nasceu no dia 13-11-1997.\"\n",
    "\n",
    "# Processamento do texto\n",
    "doc = nlp(texto)\n",
    "\n",
    "# Visualização das entidades\n",
    "\n",
    "displacy.render(doc, style='ent', jupyter=True)"
   ]
  },
  {
   "cell_type": "code",
   "execution_count": null,
   "metadata": {},
   "outputs": [],
   "source": []
  }
 ],
 "metadata": {
  "kernelspec": {
   "display_name": "venv_reconhecimento_de_entidades",
   "language": "python",
   "name": "python3"
  },
  "language_info": {
   "codemirror_mode": {
    "name": "ipython",
    "version": 3
   },
   "file_extension": ".py",
   "mimetype": "text/x-python",
   "name": "python",
   "nbconvert_exporter": "python",
   "pygments_lexer": "ipython3",
   "version": "3.8.10"
  },
  "orig_nbformat": 4
 },
 "nbformat": 4,
 "nbformat_minor": 2
}
